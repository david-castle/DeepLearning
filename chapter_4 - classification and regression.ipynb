{
 "cells": [
  {
   "cell_type": "code",
   "execution_count": 1,
   "id": "bb33134f",
   "metadata": {},
   "outputs": [],
   "source": [
    "# Listing 4.1: Loading the IMDB dataset\n",
    "\n",
    "from tensorflow.keras.datasets import imdb\n",
    "(train_data, train_labels), (test_data, test_labels) = imdb.load_data(num_words=10000)"
   ]
  },
  {
   "cell_type": "code",
   "execution_count": 2,
   "id": "c95a24ba",
   "metadata": {},
   "outputs": [],
   "source": [
    "#train_data[0]"
   ]
  },
  {
   "cell_type": "code",
   "execution_count": 3,
   "id": "85ad166b",
   "metadata": {},
   "outputs": [
    {
     "data": {
      "text/plain": [
       "1"
      ]
     },
     "execution_count": 3,
     "metadata": {},
     "output_type": "execute_result"
    }
   ],
   "source": [
    "train_labels[0]"
   ]
  },
  {
   "cell_type": "code",
   "execution_count": 4,
   "id": "560c8053",
   "metadata": {},
   "outputs": [
    {
     "data": {
      "text/plain": [
       "9999"
      ]
     },
     "execution_count": 4,
     "metadata": {},
     "output_type": "execute_result"
    }
   ],
   "source": [
    "max([max(sequence) for sequence in train_data])"
   ]
  },
  {
   "cell_type": "code",
   "execution_count": 5,
   "id": "8da30cc7",
   "metadata": {},
   "outputs": [],
   "source": [
    "# Listing 4.2 Decoding reviews back to text\n",
    "\n",
    "word_index = imdb.get_word_index() #word_index is a dictionary mapping words to an integer index\n",
    "reverse_word_index = dict(\n",
    "        [(value, key) for (key, value) in word_index.items()]) # Reverses it, mapping integer indices to words\n",
    "decoded_review = \" \".join(\n",
    "        [reverse_word_index.get(i - 3, \"?\") for i in train_data[0]]) # Decodes the review. Note that the indices \n",
    "                                                                     # are offset by 3 because 0, 1 and 2 are reserved \n",
    "                                                                     # indices for \"padding,\" \"start of sequence, and\n",
    "                                                                     # \"unknown.\" "
   ]
  },
  {
   "cell_type": "code",
   "execution_count": 6,
   "id": "9905961d",
   "metadata": {},
   "outputs": [
    {
     "data": {
      "text/plain": [
       "array([0., 1., 1., ..., 0., 0., 0.])"
      ]
     },
     "execution_count": 6,
     "metadata": {},
     "output_type": "execute_result"
    }
   ],
   "source": [
    "# Listing 4.3 - Encoding the integer sequences via multi-hot encoding\n",
    "\n",
    "import numpy as np\n",
    "def vectorize_sequences(sequences, dimension=10000):\n",
    "    results = np.zeros((len(sequences), dimension)) # Creates an all-zero matrix of shape (len(sequences), dimension)\n",
    "    for i, sequence in enumerate(sequences):\n",
    "        for j in sequence:\n",
    "            results[i, j] = 1. # Sets specific indices of results[i] to 1s\n",
    "        return results\n",
    "\n",
    "x_train = vectorize_sequences(train_data) # vectorized training data\n",
    "x_test = vectorize_sequences(test_data) # vectorized test data\n",
    "\n",
    "x_train[0]"
   ]
  },
  {
   "cell_type": "code",
   "execution_count": 7,
   "id": "2ebb0cce",
   "metadata": {},
   "outputs": [],
   "source": [
    "y_train = np.asarray(train_labels).astype(\"float32\")\n",
    "y_test = np.asarray(test_labels).astype(\"float32\")"
   ]
  },
  {
   "cell_type": "code",
   "execution_count": 8,
   "id": "6d74c62a",
   "metadata": {},
   "outputs": [
    {
     "name": "stdout",
     "output_type": "stream",
     "text": [
      "Metal device set to: Apple M1 Pro\n"
     ]
    }
   ],
   "source": [
    "# Listing 4.4 - Model Definition \n",
    "\n",
    "from tensorflow import keras\n",
    "from tensorflow.keras import layers\n",
    "from tensorflow.keras.optimizers.legacy import Adam # currently needed to make things work\n",
    "\n",
    "model = keras.Sequential([\n",
    "    layers.Dense(16, activation=\"relu\"),\n",
    "    layers.Dense(16, activation=\"relu\"),\n",
    "    layers.Dense(1, activation=\"sigmoid\")\n",
    "])\n",
    "\n",
    "# output = relu(dot(input, W) + b)"
   ]
  },
  {
   "cell_type": "code",
   "execution_count": 9,
   "id": "fa73b946",
   "metadata": {},
   "outputs": [],
   "source": [
    "# Listing 4.5 - Compiling the model\n",
    "\n",
    "model.compile(optimizer = \"rmsprop\", \n",
    "             loss = \"binary_crossentropy\", \n",
    "             metrics = [\"accuracy\"])"
   ]
  },
  {
   "cell_type": "code",
   "execution_count": 10,
   "id": "30b44206",
   "metadata": {},
   "outputs": [],
   "source": [
    "# Listing 4.6 - Setting aside a validation set\n",
    "\n",
    "x_val = x_train[:10000]\n",
    "partial_x_train = x_train[10000:]\n",
    "y_val = y_train[:10000]\n",
    "partial_y_train = y_train[10000:]"
   ]
  },
  {
   "cell_type": "code",
   "execution_count": 11,
   "id": "080d818e",
   "metadata": {},
   "outputs": [
    {
     "name": "stdout",
     "output_type": "stream",
     "text": [
      "Epoch 1/100\n"
     ]
    },
    {
     "name": "stderr",
     "output_type": "stream",
     "text": [
      "2023-08-07 17:39:18.095991: W tensorflow/tsl/platform/profile_utils/cpu_utils.cc:128] Failed to get CPU frequency: 0 Hz\n"
     ]
    },
    {
     "name": "stdout",
     "output_type": "stream",
     "text": [
      "30/30 [==============================] - 1s 28ms/step - loss: 0.6931 - accuracy: 0.5035 - val_loss: 0.6932 - val_accuracy: 0.4947\n",
      "Epoch 2/100\n",
      "30/30 [==============================] - 0s 14ms/step - loss: 0.6931 - accuracy: 0.5035 - val_loss: 0.6932 - val_accuracy: 0.4947\n",
      "Epoch 3/100\n",
      "30/30 [==============================] - 0s 13ms/step - loss: 0.6931 - accuracy: 0.5035 - val_loss: 0.6932 - val_accuracy: 0.4947\n",
      "Epoch 4/100\n",
      "30/30 [==============================] - 0s 14ms/step - loss: 0.6931 - accuracy: 0.5035 - val_loss: 0.6932 - val_accuracy: 0.4947\n",
      "Epoch 5/100\n",
      "30/30 [==============================] - 0s 13ms/step - loss: 0.6931 - accuracy: 0.5035 - val_loss: 0.6932 - val_accuracy: 0.4947\n",
      "Epoch 6/100\n",
      "30/30 [==============================] - 0s 13ms/step - loss: 0.6931 - accuracy: 0.5035 - val_loss: 0.6932 - val_accuracy: 0.4947\n",
      "Epoch 7/100\n",
      "30/30 [==============================] - 0s 13ms/step - loss: 0.6931 - accuracy: 0.5035 - val_loss: 0.6932 - val_accuracy: 0.4947\n",
      "Epoch 8/100\n",
      "30/30 [==============================] - 0s 13ms/step - loss: 0.6931 - accuracy: 0.5035 - val_loss: 0.6933 - val_accuracy: 0.4947\n",
      "Epoch 9/100\n",
      "30/30 [==============================] - 0s 13ms/step - loss: 0.6931 - accuracy: 0.5035 - val_loss: 0.6932 - val_accuracy: 0.4947\n",
      "Epoch 10/100\n",
      "30/30 [==============================] - 0s 13ms/step - loss: 0.6931 - accuracy: 0.5035 - val_loss: 0.6932 - val_accuracy: 0.4947\n",
      "Epoch 11/100\n",
      "30/30 [==============================] - 0s 13ms/step - loss: 0.6931 - accuracy: 0.5035 - val_loss: 0.6933 - val_accuracy: 0.4947\n",
      "Epoch 12/100\n",
      "30/30 [==============================] - 0s 14ms/step - loss: 0.6931 - accuracy: 0.5035 - val_loss: 0.6933 - val_accuracy: 0.4947\n",
      "Epoch 13/100\n",
      "30/30 [==============================] - 0s 16ms/step - loss: 0.6931 - accuracy: 0.5035 - val_loss: 0.6933 - val_accuracy: 0.4947\n",
      "Epoch 14/100\n",
      "30/30 [==============================] - 0s 16ms/step - loss: 0.6931 - accuracy: 0.5035 - val_loss: 0.6932 - val_accuracy: 0.4947\n",
      "Epoch 15/100\n",
      "30/30 [==============================] - 0s 15ms/step - loss: 0.6931 - accuracy: 0.5035 - val_loss: 0.6932 - val_accuracy: 0.4947\n",
      "Epoch 16/100\n",
      "30/30 [==============================] - 0s 16ms/step - loss: 0.6931 - accuracy: 0.5035 - val_loss: 0.6932 - val_accuracy: 0.4947\n",
      "Epoch 17/100\n",
      "30/30 [==============================] - 0s 16ms/step - loss: 0.6931 - accuracy: 0.5035 - val_loss: 0.6933 - val_accuracy: 0.4947\n",
      "Epoch 18/100\n",
      "30/30 [==============================] - 0s 16ms/step - loss: 0.6931 - accuracy: 0.5035 - val_loss: 0.6932 - val_accuracy: 0.4947\n",
      "Epoch 19/100\n",
      "30/30 [==============================] - 0s 15ms/step - loss: 0.6931 - accuracy: 0.5035 - val_loss: 0.6933 - val_accuracy: 0.4947\n",
      "Epoch 20/100\n",
      "30/30 [==============================] - 0s 16ms/step - loss: 0.6931 - accuracy: 0.5035 - val_loss: 0.6933 - val_accuracy: 0.4947\n",
      "Epoch 21/100\n",
      "30/30 [==============================] - 0s 15ms/step - loss: 0.6931 - accuracy: 0.5035 - val_loss: 0.6932 - val_accuracy: 0.4947\n",
      "Epoch 22/100\n",
      "30/30 [==============================] - 0s 16ms/step - loss: 0.6931 - accuracy: 0.5035 - val_loss: 0.6932 - val_accuracy: 0.4947\n",
      "Epoch 23/100\n",
      "30/30 [==============================] - 0s 16ms/step - loss: 0.6931 - accuracy: 0.5035 - val_loss: 0.6932 - val_accuracy: 0.4947\n",
      "Epoch 24/100\n",
      "30/30 [==============================] - 0s 16ms/step - loss: 0.6931 - accuracy: 0.5035 - val_loss: 0.6932 - val_accuracy: 0.4947\n",
      "Epoch 25/100\n",
      "30/30 [==============================] - 0s 16ms/step - loss: 0.6931 - accuracy: 0.5035 - val_loss: 0.6932 - val_accuracy: 0.4947\n",
      "Epoch 26/100\n",
      "30/30 [==============================] - 0s 14ms/step - loss: 0.6931 - accuracy: 0.5035 - val_loss: 0.6932 - val_accuracy: 0.4947\n",
      "Epoch 27/100\n",
      "30/30 [==============================] - 0s 13ms/step - loss: 0.6931 - accuracy: 0.5035 - val_loss: 0.6932 - val_accuracy: 0.4947\n",
      "Epoch 28/100\n",
      "30/30 [==============================] - 0s 13ms/step - loss: 0.6931 - accuracy: 0.5035 - val_loss: 0.6932 - val_accuracy: 0.4947\n",
      "Epoch 29/100\n",
      "30/30 [==============================] - 0s 13ms/step - loss: 0.6931 - accuracy: 0.5035 - val_loss: 0.6932 - val_accuracy: 0.4947\n",
      "Epoch 30/100\n",
      "30/30 [==============================] - 0s 14ms/step - loss: 0.6931 - accuracy: 0.5035 - val_loss: 0.6933 - val_accuracy: 0.4947\n",
      "Epoch 31/100\n",
      "30/30 [==============================] - 0s 13ms/step - loss: 0.6931 - accuracy: 0.5035 - val_loss: 0.6933 - val_accuracy: 0.4947\n",
      "Epoch 32/100\n",
      "30/30 [==============================] - 0s 13ms/step - loss: 0.6931 - accuracy: 0.5035 - val_loss: 0.6933 - val_accuracy: 0.4947\n",
      "Epoch 33/100\n",
      "30/30 [==============================] - 0s 15ms/step - loss: 0.6931 - accuracy: 0.5035 - val_loss: 0.6932 - val_accuracy: 0.4947\n",
      "Epoch 34/100\n",
      "30/30 [==============================] - 0s 15ms/step - loss: 0.6931 - accuracy: 0.5035 - val_loss: 0.6932 - val_accuracy: 0.4947\n",
      "Epoch 35/100\n",
      "30/30 [==============================] - 0s 15ms/step - loss: 0.6931 - accuracy: 0.5035 - val_loss: 0.6932 - val_accuracy: 0.4947\n",
      "Epoch 36/100\n",
      "30/30 [==============================] - 0s 13ms/step - loss: 0.6931 - accuracy: 0.5035 - val_loss: 0.6932 - val_accuracy: 0.4947\n",
      "Epoch 37/100\n",
      "30/30 [==============================] - 0s 15ms/step - loss: 0.6931 - accuracy: 0.5035 - val_loss: 0.6932 - val_accuracy: 0.4947\n",
      "Epoch 38/100\n",
      "30/30 [==============================] - 0s 16ms/step - loss: 0.6931 - accuracy: 0.5035 - val_loss: 0.6932 - val_accuracy: 0.4947\n",
      "Epoch 39/100\n",
      "30/30 [==============================] - 0s 16ms/step - loss: 0.6931 - accuracy: 0.5035 - val_loss: 0.6932 - val_accuracy: 0.4947\n",
      "Epoch 40/100\n",
      "30/30 [==============================] - 0s 14ms/step - loss: 0.6931 - accuracy: 0.5035 - val_loss: 0.6932 - val_accuracy: 0.4947\n",
      "Epoch 41/100\n",
      "30/30 [==============================] - 0s 15ms/step - loss: 0.6931 - accuracy: 0.5035 - val_loss: 0.6932 - val_accuracy: 0.4947\n",
      "Epoch 42/100\n",
      "30/30 [==============================] - 0s 13ms/step - loss: 0.6931 - accuracy: 0.5035 - val_loss: 0.6933 - val_accuracy: 0.4947\n",
      "Epoch 43/100\n",
      "30/30 [==============================] - 0s 13ms/step - loss: 0.6931 - accuracy: 0.5035 - val_loss: 0.6932 - val_accuracy: 0.4947\n",
      "Epoch 44/100\n",
      "30/30 [==============================] - 0s 13ms/step - loss: 0.6931 - accuracy: 0.5035 - val_loss: 0.6932 - val_accuracy: 0.4947\n",
      "Epoch 45/100\n",
      "30/30 [==============================] - 0s 13ms/step - loss: 0.6931 - accuracy: 0.5035 - val_loss: 0.6933 - val_accuracy: 0.4947\n",
      "Epoch 46/100\n",
      "30/30 [==============================] - 0s 14ms/step - loss: 0.6931 - accuracy: 0.5035 - val_loss: 0.6933 - val_accuracy: 0.4947\n",
      "Epoch 47/100\n",
      "30/30 [==============================] - 0s 14ms/step - loss: 0.6931 - accuracy: 0.5035 - val_loss: 0.6933 - val_accuracy: 0.4947\n",
      "Epoch 48/100\n",
      "30/30 [==============================] - 0s 15ms/step - loss: 0.6931 - accuracy: 0.5035 - val_loss: 0.6932 - val_accuracy: 0.4947\n",
      "Epoch 49/100\n",
      "30/30 [==============================] - 0s 15ms/step - loss: 0.6931 - accuracy: 0.5035 - val_loss: 0.6932 - val_accuracy: 0.4947\n",
      "Epoch 50/100\n",
      "30/30 [==============================] - 0s 13ms/step - loss: 0.6931 - accuracy: 0.5035 - val_loss: 0.6932 - val_accuracy: 0.4947\n",
      "Epoch 51/100\n",
      "30/30 [==============================] - 0s 13ms/step - loss: 0.6931 - accuracy: 0.5035 - val_loss: 0.6932 - val_accuracy: 0.4947\n",
      "Epoch 52/100\n",
      "30/30 [==============================] - 0s 15ms/step - loss: 0.6931 - accuracy: 0.5035 - val_loss: 0.6932 - val_accuracy: 0.4947\n",
      "Epoch 53/100\n",
      "30/30 [==============================] - 0s 13ms/step - loss: 0.6931 - accuracy: 0.5035 - val_loss: 0.6932 - val_accuracy: 0.4947\n",
      "Epoch 54/100\n",
      "30/30 [==============================] - 0s 15ms/step - loss: 0.6931 - accuracy: 0.5035 - val_loss: 0.6932 - val_accuracy: 0.4947\n",
      "Epoch 55/100\n",
      "30/30 [==============================] - 0s 15ms/step - loss: 0.6931 - accuracy: 0.5035 - val_loss: 0.6932 - val_accuracy: 0.4947\n",
      "Epoch 56/100\n",
      "30/30 [==============================] - 0s 14ms/step - loss: 0.6931 - accuracy: 0.5035 - val_loss: 0.6933 - val_accuracy: 0.4947\n",
      "Epoch 57/100\n",
      "30/30 [==============================] - 0s 13ms/step - loss: 0.6931 - accuracy: 0.5035 - val_loss: 0.6933 - val_accuracy: 0.4947\n",
      "Epoch 58/100\n"
     ]
    },
    {
     "name": "stdout",
     "output_type": "stream",
     "text": [
      "30/30 [==============================] - 0s 16ms/step - loss: 0.6931 - accuracy: 0.5035 - val_loss: 0.6933 - val_accuracy: 0.4947\n",
      "Epoch 59/100\n",
      "30/30 [==============================] - 0s 16ms/step - loss: 0.6931 - accuracy: 0.5035 - val_loss: 0.6933 - val_accuracy: 0.4947\n",
      "Epoch 60/100\n",
      "30/30 [==============================] - 0s 14ms/step - loss: 0.6931 - accuracy: 0.5035 - val_loss: 0.6932 - val_accuracy: 0.4947\n",
      "Epoch 61/100\n",
      "30/30 [==============================] - 0s 13ms/step - loss: 0.6931 - accuracy: 0.5035 - val_loss: 0.6932 - val_accuracy: 0.4947\n",
      "Epoch 62/100\n",
      "30/30 [==============================] - 0s 13ms/step - loss: 0.6931 - accuracy: 0.5035 - val_loss: 0.6932 - val_accuracy: 0.4947\n",
      "Epoch 63/100\n",
      "30/30 [==============================] - 0s 13ms/step - loss: 0.6931 - accuracy: 0.5035 - val_loss: 0.6932 - val_accuracy: 0.4947\n",
      "Epoch 64/100\n",
      "30/30 [==============================] - 0s 13ms/step - loss: 0.6931 - accuracy: 0.5035 - val_loss: 0.6932 - val_accuracy: 0.4947\n",
      "Epoch 65/100\n",
      "30/30 [==============================] - 0s 13ms/step - loss: 0.6931 - accuracy: 0.5035 - val_loss: 0.6932 - val_accuracy: 0.4947\n",
      "Epoch 66/100\n",
      "30/30 [==============================] - 0s 13ms/step - loss: 0.6931 - accuracy: 0.5035 - val_loss: 0.6932 - val_accuracy: 0.4947\n",
      "Epoch 67/100\n",
      "30/30 [==============================] - 0s 13ms/step - loss: 0.6931 - accuracy: 0.5035 - val_loss: 0.6932 - val_accuracy: 0.4947\n",
      "Epoch 68/100\n",
      "30/30 [==============================] - 0s 13ms/step - loss: 0.6931 - accuracy: 0.5035 - val_loss: 0.6933 - val_accuracy: 0.4947\n",
      "Epoch 69/100\n",
      "30/30 [==============================] - 0s 13ms/step - loss: 0.6931 - accuracy: 0.5035 - val_loss: 0.6932 - val_accuracy: 0.4947\n",
      "Epoch 70/100\n",
      "30/30 [==============================] - 0s 13ms/step - loss: 0.6931 - accuracy: 0.5035 - val_loss: 0.6932 - val_accuracy: 0.4947\n",
      "Epoch 71/100\n",
      "30/30 [==============================] - 0s 13ms/step - loss: 0.6931 - accuracy: 0.5035 - val_loss: 0.6932 - val_accuracy: 0.4947\n",
      "Epoch 72/100\n",
      "30/30 [==============================] - 0s 13ms/step - loss: 0.6931 - accuracy: 0.5035 - val_loss: 0.6932 - val_accuracy: 0.4947\n",
      "Epoch 73/100\n",
      "30/30 [==============================] - 0s 13ms/step - loss: 0.6931 - accuracy: 0.5035 - val_loss: 0.6932 - val_accuracy: 0.4947\n",
      "Epoch 74/100\n",
      "30/30 [==============================] - 0s 13ms/step - loss: 0.6931 - accuracy: 0.5035 - val_loss: 0.6932 - val_accuracy: 0.4947\n",
      "Epoch 75/100\n",
      "30/30 [==============================] - 0s 13ms/step - loss: 0.6931 - accuracy: 0.5035 - val_loss: 0.6932 - val_accuracy: 0.4947\n",
      "Epoch 76/100\n",
      "30/30 [==============================] - 0s 13ms/step - loss: 0.6931 - accuracy: 0.5035 - val_loss: 0.6932 - val_accuracy: 0.4947\n",
      "Epoch 77/100\n",
      "30/30 [==============================] - 0s 13ms/step - loss: 0.6931 - accuracy: 0.5035 - val_loss: 0.6932 - val_accuracy: 0.4947\n",
      "Epoch 78/100\n",
      "30/30 [==============================] - 0s 13ms/step - loss: 0.6931 - accuracy: 0.5035 - val_loss: 0.6932 - val_accuracy: 0.4947\n",
      "Epoch 79/100\n",
      "30/30 [==============================] - 0s 13ms/step - loss: 0.6931 - accuracy: 0.5035 - val_loss: 0.6932 - val_accuracy: 0.4947\n",
      "Epoch 80/100\n",
      "30/30 [==============================] - 0s 13ms/step - loss: 0.6931 - accuracy: 0.5035 - val_loss: 0.6932 - val_accuracy: 0.4947\n",
      "Epoch 81/100\n",
      "30/30 [==============================] - 0s 13ms/step - loss: 0.6931 - accuracy: 0.5035 - val_loss: 0.6932 - val_accuracy: 0.4947\n",
      "Epoch 82/100\n",
      "30/30 [==============================] - 0s 13ms/step - loss: 0.6931 - accuracy: 0.5035 - val_loss: 0.6932 - val_accuracy: 0.4947\n",
      "Epoch 83/100\n",
      "30/30 [==============================] - 0s 13ms/step - loss: 0.6931 - accuracy: 0.5035 - val_loss: 0.6932 - val_accuracy: 0.4947\n",
      "Epoch 84/100\n",
      "30/30 [==============================] - 0s 13ms/step - loss: 0.6931 - accuracy: 0.5035 - val_loss: 0.6932 - val_accuracy: 0.4947\n",
      "Epoch 85/100\n",
      "30/30 [==============================] - 0s 13ms/step - loss: 0.6931 - accuracy: 0.5035 - val_loss: 0.6932 - val_accuracy: 0.4947\n",
      "Epoch 86/100\n",
      "30/30 [==============================] - 0s 13ms/step - loss: 0.6931 - accuracy: 0.5035 - val_loss: 0.6932 - val_accuracy: 0.4947\n",
      "Epoch 87/100\n",
      "30/30 [==============================] - 0s 13ms/step - loss: 0.6931 - accuracy: 0.5035 - val_loss: 0.6932 - val_accuracy: 0.4947\n",
      "Epoch 88/100\n",
      "30/30 [==============================] - 0s 13ms/step - loss: 0.6931 - accuracy: 0.5035 - val_loss: 0.6932 - val_accuracy: 0.4947\n",
      "Epoch 89/100\n",
      "30/30 [==============================] - 0s 13ms/step - loss: 0.6931 - accuracy: 0.5035 - val_loss: 0.6932 - val_accuracy: 0.4947\n",
      "Epoch 90/100\n",
      "30/30 [==============================] - 0s 13ms/step - loss: 0.6931 - accuracy: 0.5035 - val_loss: 0.6932 - val_accuracy: 0.4947\n",
      "Epoch 91/100\n",
      "30/30 [==============================] - 0s 13ms/step - loss: 0.6931 - accuracy: 0.5035 - val_loss: 0.6932 - val_accuracy: 0.4947\n",
      "Epoch 92/100\n",
      "30/30 [==============================] - 0s 13ms/step - loss: 0.6931 - accuracy: 0.5035 - val_loss: 0.6932 - val_accuracy: 0.4947\n",
      "Epoch 93/100\n",
      "30/30 [==============================] - 0s 13ms/step - loss: 0.6931 - accuracy: 0.5035 - val_loss: 0.6932 - val_accuracy: 0.4947\n",
      "Epoch 94/100\n",
      "30/30 [==============================] - 0s 13ms/step - loss: 0.6931 - accuracy: 0.5035 - val_loss: 0.6933 - val_accuracy: 0.4947\n",
      "Epoch 95/100\n",
      "30/30 [==============================] - 0s 13ms/step - loss: 0.6931 - accuracy: 0.5035 - val_loss: 0.6933 - val_accuracy: 0.4947\n",
      "Epoch 96/100\n",
      "30/30 [==============================] - 0s 13ms/step - loss: 0.6931 - accuracy: 0.5035 - val_loss: 0.6933 - val_accuracy: 0.4947\n",
      "Epoch 97/100\n",
      "30/30 [==============================] - 0s 13ms/step - loss: 0.6931 - accuracy: 0.5035 - val_loss: 0.6932 - val_accuracy: 0.4947\n",
      "Epoch 98/100\n",
      "30/30 [==============================] - 0s 13ms/step - loss: 0.6931 - accuracy: 0.5035 - val_loss: 0.6933 - val_accuracy: 0.4947\n",
      "Epoch 99/100\n",
      "30/30 [==============================] - 0s 13ms/step - loss: 0.6931 - accuracy: 0.5035 - val_loss: 0.6933 - val_accuracy: 0.4947\n",
      "Epoch 100/100\n",
      "30/30 [==============================] - 0s 13ms/step - loss: 0.6931 - accuracy: 0.5035 - val_loss: 0.6933 - val_accuracy: 0.4947\n"
     ]
    }
   ],
   "source": [
    "# Listing 4.7 - Training the model\n",
    "\n",
    "history = model.fit(partial_x_train, \n",
    "                    partial_y_train, \n",
    "                   epochs=100, \n",
    "                   batch_size=512, \n",
    "                   validation_data=(x_val, y_val))"
   ]
  },
  {
   "cell_type": "code",
   "execution_count": 12,
   "id": "83c84cf9",
   "metadata": {},
   "outputs": [
    {
     "data": {
      "text/plain": [
       "dict_keys(['loss', 'accuracy', 'val_loss', 'val_accuracy'])"
      ]
     },
     "execution_count": 12,
     "metadata": {},
     "output_type": "execute_result"
    }
   ],
   "source": [
    "history_dict = history.history\n",
    "history_dict.keys()"
   ]
  },
  {
   "cell_type": "code",
   "execution_count": 13,
   "id": "6fa4cd87",
   "metadata": {},
   "outputs": [
    {
     "data": {
      "image/png": "[encoded data removed]",
      "text/plain": [
       "<Figure size 640x480 with 1 Axes>"
      ]
     },
     "metadata": {},
     "output_type": "display_data"
    }
   ],
   "source": [
    "# Listing 4.8 - Plotting the training and validation loss\n",
    "\n",
    "import matplotlib.pyplot as plt\n",
    "history_dict = history.history\n",
    "loss_values = history_dict['loss']\n",
    "val_loss_values = history_dict[\"val_loss\"]\n",
    "epochs = range(1, len(loss_values) + 1)\n",
    "plt.plot(epochs, loss_values, \"bo\", label=\"Training loss\")\n",
    "plt.plot(epochs, val_loss_values, \"b\", label=\"Validation loss\")\n",
    "plt.title(\"Training and validation loss\")\n",
    "plt.xlabel(\"Epochs\")\n",
    "plt.ylabel(\"Loss\")\n",
    "plt.legend()\n",
    "plt.show()"
   ]
  },
  {
   "cell_type": "code",
   "execution_count": 14,
   "id": "c8966a47",
   "metadata": {},
   "outputs": [
    {
     "data": {
      "image/png": "[encoded data removed]",
      "text/plain": [
       "<Figure size 640x480 with 1 Axes>"
      ]
     },
     "metadata": {},
     "output_type": "display_data"
    }
   ],
   "source": [
    "# Listing 4.9 - Plotting the training and validation accuracy\n",
    "\n",
    "plt.clf()\n",
    "acc = history_dict['accuracy']\n",
    "val_acc = history_dict[\"val_accuracy\"]\n",
    "plt.plot(epochs, acc, \"bo\", label=\"Training accuracy\")\n",
    "plt.plot(epochs, val_acc, \"b\", label=\"Validation accuracy\")\n",
    "plt.title(\"Training and validation accuracy\")\n",
    "plt.xlabel(\"Epochs\")\n",
    "plt.ylabel(\"Accuracy\")\n",
    "plt.legend()\n",
    "plt.show()"
   ]
  },
  {
   "cell_type": "code",
   "execution_count": 15,
   "id": "9cde3b02",
   "metadata": {},
   "outputs": [
    {
     "name": "stdout",
     "output_type": "stream",
     "text": [
      "Epoch 1/4\n",
      "49/49 [==============================] - 1s 11ms/step - loss: 0.6932 - accuracy: 0.4958\n",
      "Epoch 2/4\n",
      "49/49 [==============================] - 0s 10ms/step - loss: 0.6932 - accuracy: 0.4999\n",
      "Epoch 3/4\n",
      "49/49 [==============================] - 0s 10ms/step - loss: 0.6931 - accuracy: 0.4989\n",
      "Epoch 4/4\n",
      "49/49 [==============================] - 0s 9ms/step - loss: 0.6932 - accuracy: 0.4964\n",
      "782/782 [==============================] - 4s 5ms/step - loss: 0.6931 - accuracy: 0.5000\n"
     ]
    },
    {
     "data": {
      "text/plain": [
       "[0.6931489706039429, 0.5]"
      ]
     },
     "execution_count": 15,
     "metadata": {},
     "output_type": "execute_result"
    }
   ],
   "source": [
    "# Listing 4.10 - Retraining a model from scratch\n",
    "\n",
    "model = keras.Sequential([\n",
    "    layers.Dense(16, activation=\"relu\"),\n",
    "    layers.Dense(16, activation=\"relu\"),\n",
    "    layers.Dense(1, activation=\"sigmoid\")\n",
    "])\n",
    "model.compile(optimizer = \"rmsprop\", \n",
    "             loss = \"binary_crossentropy\", \n",
    "             metrics = [\"accuracy\"])\n",
    "model.fit(x_train, y_train, epochs=4, batch_size=512)\n",
    "results = model.evaluate(x_test, y_test)\n",
    "results"
   ]
  },
  {
   "cell_type": "code",
   "execution_count": 16,
   "id": "e37cc5cf",
   "metadata": {},
   "outputs": [
    {
     "name": "stdout",
     "output_type": "stream",
     "text": [
      "782/782 [==============================] - 2s 2ms/step\n"
     ]
    },
    {
     "data": {
      "text/plain": [
       "array([[0.5172317],\n",
       "       [0.5004863],\n",
       "       [0.5004863],\n",
       "       ...,\n",
       "       [0.5004863],\n",
       "       [0.5004863],\n",
       "       [0.5004863]], dtype=float32)"
      ]
     },
     "execution_count": 16,
     "metadata": {},
     "output_type": "execute_result"
    }
   ],
   "source": [
    "model.predict(x_test)"
   ]
  },
  {
   "cell_type": "code",
   "execution_count": 17,
   "id": "edfb79cb",
   "metadata": {},
   "outputs": [
    {
     "name": "stdout",
     "output_type": "stream",
     "text": [
      "Epoch 1/4\n",
      "49/49 [==============================] - 1s 17ms/step - loss: 0.6932 - accuracy: 0.4954\n",
      "Epoch 2/4\n",
      "49/49 [==============================] - 1s 14ms/step - loss: 0.6932 - accuracy: 0.4963\n",
      "Epoch 3/4\n",
      "49/49 [==============================] - 1s 14ms/step - loss: 0.6931 - accuracy: 0.4965\n",
      "Epoch 4/4\n",
      "49/49 [==============================] - 1s 14ms/step - loss: 0.6931 - accuracy: 0.4994\n",
      "782/782 [==============================] - 4s 4ms/step - loss: 0.6932 - accuracy: 0.5000\n"
     ]
    },
    {
     "data": {
      "text/plain": [
       "[0.6931770443916321, 0.5]"
      ]
     },
     "execution_count": 17,
     "metadata": {},
     "output_type": "execute_result"
    }
   ],
   "source": [
    "model = keras.Sequential([\n",
    "    layers.Dense(256, activation=\"relu\"),\n",
    "    layers.Dense(256, activation=\"relu\"),\n",
    "    layers.Dense(1, activation=\"sigmoid\")\n",
    "])\n",
    "model.compile(optimizer = \"rmsprop\", \n",
    "             loss = \"binary_crossentropy\", \n",
    "             metrics = [\"accuracy\"])\n",
    "model.fit(x_train, y_train, epochs=4, batch_size=512)\n",
    "results = model.evaluate(x_test, y_test)\n",
    "results"
   ]
  },
  {
   "cell_type": "code",
   "execution_count": 18,
   "id": "fc59aa5f",
   "metadata": {},
   "outputs": [
    {
     "name": "stdout",
     "output_type": "stream",
     "text": [
      "782/782 [==============================] - 1s 2ms/step\n"
     ]
    },
    {
     "data": {
      "text/plain": [
       "array([[0.76129836],\n",
       "       [0.50041676],\n",
       "       [0.50041676],\n",
       "       ...,\n",
       "       [0.50041676],\n",
       "       [0.50041676],\n",
       "       [0.50041676]], dtype=float32)"
      ]
     },
     "execution_count": 18,
     "metadata": {},
     "output_type": "execute_result"
    }
   ],
   "source": [
    "model.predict(x_test)"
   ]
  },
  {
   "cell_type": "code",
   "execution_count": 19,
   "id": "bf942d4d",
   "metadata": {},
   "outputs": [],
   "source": [
    "### Multiclass classification\n",
    "# LIsting 4.11 - Loading the Reuters Dataset\n",
    "\n",
    "from tensorflow.keras.datasets import reuters\n",
    "(train_data, train_labels), (test_data, test_labels) = reuters.load_data(num_words=10000)"
   ]
  },
  {
   "cell_type": "code",
   "execution_count": 20,
   "id": "250bea71",
   "metadata": {},
   "outputs": [
    {
     "data": {
      "text/plain": [
       "8982"
      ]
     },
     "execution_count": 20,
     "metadata": {},
     "output_type": "execute_result"
    }
   ],
   "source": [
    "len(train_data)"
   ]
  },
  {
   "cell_type": "code",
   "execution_count": 21,
   "id": "b1b78761",
   "metadata": {},
   "outputs": [
    {
     "data": {
      "text/plain": [
       "2246"
      ]
     },
     "execution_count": 21,
     "metadata": {},
     "output_type": "execute_result"
    }
   ],
   "source": [
    "len(test_data)"
   ]
  },
  {
   "cell_type": "code",
   "execution_count": 22,
   "id": "8aeb5828",
   "metadata": {},
   "outputs": [
    {
     "data": {
      "text/plain": [
       "[1,\n",
       " 245,\n",
       " 273,\n",
       " 207,\n",
       " 156,\n",
       " 53,\n",
       " 74,\n",
       " 160,\n",
       " 26,\n",
       " 14,\n",
       " 46,\n",
       " 296,\n",
       " 26,\n",
       " 39,\n",
       " 74,\n",
       " 2979,\n",
       " 3554,\n",
       " 14,\n",
       " 46,\n",
       " 4689,\n",
       " 4329,\n",
       " 86,\n",
       " 61,\n",
       " 3499,\n",
       " 4795,\n",
       " 14,\n",
       " 61,\n",
       " 451,\n",
       " 4329,\n",
       " 17,\n",
       " 12]"
      ]
     },
     "execution_count": 22,
     "metadata": {},
     "output_type": "execute_result"
    }
   ],
   "source": [
    "train_data[10]"
   ]
  },
  {
   "cell_type": "code",
   "execution_count": 23,
   "id": "8c65976a",
   "metadata": {},
   "outputs": [],
   "source": [
    "# Listing 4.12 - Decoding newswired back to text\n",
    "\n",
    "word_index = reuters.get_word_index()\n",
    "reverse_word_index = dict(\n",
    "    [(value, key) for (key, value) in word_index.items()])\n",
    "decoded_newswire = \" \".join(\n",
    "    [reverse_word_index.get(i - 3, \"?\") for i in train_data[0]]) #Notice that the indices are offset by 3 \n",
    "                                                                 #because 0, 1, and 2 are reserved indices for \n",
    "                                                                 #\"padding,\" \"start of sequence,\" and \"unknown\" "
   ]
  },
  {
   "cell_type": "code",
   "execution_count": 24,
   "id": "5611208a",
   "metadata": {},
   "outputs": [
    {
     "data": {
      "text/plain": [
       "3"
      ]
     },
     "execution_count": 24,
     "metadata": {},
     "output_type": "execute_result"
    }
   ],
   "source": [
    "train_labels[10]"
   ]
  },
  {
   "cell_type": "code",
   "execution_count": 25,
   "id": "5d8e64a3",
   "metadata": {},
   "outputs": [],
   "source": [
    "# Listing 4.13 - Encoding the input data\n",
    "\n",
    "x_train = vectorize_sequences(train_data) # vectorized training data\n",
    "x_test = vectorize_sequences(test_data)   # vectorized test data"
   ]
  },
  {
   "cell_type": "code",
   "execution_count": 26,
   "id": "193ee400",
   "metadata": {},
   "outputs": [],
   "source": [
    "# Listing 4.14 - Encoding the labels\n",
    "\n",
    "def to_one_hot(labels, dimension=46):\n",
    "    results = np.zeros((len(labels), dimension))\n",
    "    for i, label in enumerate(labels):\n",
    "        results[i, label] = 1\n",
    "    return results\n",
    "y_train = to_one_hot(train_labels)\n",
    "y_test = to_one_hot(test_labels)\n",
    "\n",
    "from tensorflow.keras.utils import to_categorical\n",
    "y_train = to_categorical(train_labels)\n",
    "y_test = to_categorical(test_labels)"
   ]
  },
  {
   "cell_type": "code",
   "execution_count": 27,
   "id": "11fd4360",
   "metadata": {},
   "outputs": [],
   "source": [
    "model = keras.Sequential([\n",
    "    layers.Dense(64, activation=\"relu\"), \n",
    "    layers.Dense(64, activation=\"relu\"), \n",
    "    layers.Dense(46, activation=\"softmax\")\n",
    "])"
   ]
  },
  {
   "cell_type": "code",
   "execution_count": 28,
   "id": "3d739830",
   "metadata": {},
   "outputs": [],
   "source": [
    "# Listing 4.16 - Compiling the model\n",
    "\n",
    "model.compile(optimizer=\"rmsprop\", \n",
    "             loss=\"categorical_crossentropy\", \n",
    "             metrics=[\"accuracy\"])"
   ]
  },
  {
   "cell_type": "code",
   "execution_count": 29,
   "id": "27477958",
   "metadata": {},
   "outputs": [],
   "source": [
    "# Listing 4.17 - Setting aside a validation set\n",
    "\n",
    "x_val = x_train[:1000]\n",
    "partial_x_train = x_train[1000:]\n",
    "y_val = y_train[:1000]\n",
    "partial_y_train = y_train[1000:]"
   ]
  },
  {
   "cell_type": "code",
   "execution_count": 31,
   "id": "fac09be7",
   "metadata": {},
   "outputs": [
    {
     "name": "stdout",
     "output_type": "stream",
     "text": [
      "Epoch 1/100\n",
      "16/16 [==============================] - 0s 14ms/step - loss: 2.6875 - accuracy: 0.3514 - val_loss: 2.6761 - val_accuracy: 0.3530\n",
      "Epoch 2/100\n",
      "16/16 [==============================] - 0s 14ms/step - loss: 2.6787 - accuracy: 0.3514 - val_loss: 2.6672 - val_accuracy: 0.3530\n",
      "Epoch 3/100\n",
      "16/16 [==============================] - 0s 14ms/step - loss: 2.6700 - accuracy: 0.3514 - val_loss: 2.6585 - val_accuracy: 0.3530\n",
      "Epoch 4/100\n",
      "16/16 [==============================] - 0s 14ms/step - loss: 2.6615 - accuracy: 0.3514 - val_loss: 2.6499 - val_accuracy: 0.3530\n",
      "Epoch 5/100\n",
      "16/16 [==============================] - 0s 14ms/step - loss: 2.6532 - accuracy: 0.3514 - val_loss: 2.6415 - val_accuracy: 0.3530\n",
      "Epoch 6/100\n",
      "16/16 [==============================] - 0s 14ms/step - loss: 2.6451 - accuracy: 0.3514 - val_loss: 2.6333 - val_accuracy: 0.3530\n",
      "Epoch 7/100\n",
      "16/16 [==============================] - 0s 14ms/step - loss: 2.6372 - accuracy: 0.3514 - val_loss: 2.6253 - val_accuracy: 0.3530\n",
      "Epoch 8/100\n",
      "16/16 [==============================] - 0s 14ms/step - loss: 2.6293 - accuracy: 0.3514 - val_loss: 2.6174 - val_accuracy: 0.3530\n",
      "Epoch 9/100\n",
      "16/16 [==============================] - 0s 14ms/step - loss: 2.6217 - accuracy: 0.3514 - val_loss: 2.6097 - val_accuracy: 0.3530\n",
      "Epoch 10/100\n",
      "16/16 [==============================] - 0s 14ms/step - loss: 2.6142 - accuracy: 0.3514 - val_loss: 2.6022 - val_accuracy: 0.3530\n",
      "Epoch 11/100\n",
      "16/16 [==============================] - 0s 15ms/step - loss: 2.6070 - accuracy: 0.3514 - val_loss: 2.5948 - val_accuracy: 0.3530\n",
      "Epoch 12/100\n",
      "16/16 [==============================] - 0s 14ms/step - loss: 2.5998 - accuracy: 0.3514 - val_loss: 2.5876 - val_accuracy: 0.3530\n",
      "Epoch 13/100\n",
      "16/16 [==============================] - 0s 14ms/step - loss: 2.5929 - accuracy: 0.3514 - val_loss: 2.5805 - val_accuracy: 0.3530\n",
      "Epoch 14/100\n",
      "16/16 [==============================] - 0s 14ms/step - loss: 2.5861 - accuracy: 0.3514 - val_loss: 2.5737 - val_accuracy: 0.3530\n",
      "Epoch 15/100\n",
      "16/16 [==============================] - 0s 15ms/step - loss: 2.5795 - accuracy: 0.3514 - val_loss: 2.5670 - val_accuracy: 0.3530\n",
      "Epoch 16/100\n",
      "16/16 [==============================] - 0s 15ms/step - loss: 2.5731 - accuracy: 0.3514 - val_loss: 2.5605 - val_accuracy: 0.3530\n",
      "Epoch 17/100\n",
      "16/16 [==============================] - 0s 14ms/step - loss: 2.5668 - accuracy: 0.3514 - val_loss: 2.5542 - val_accuracy: 0.3530\n",
      "Epoch 18/100\n",
      "16/16 [==============================] - 0s 14ms/step - loss: 2.5607 - accuracy: 0.3514 - val_loss: 2.5481 - val_accuracy: 0.3530\n",
      "Epoch 19/100\n",
      "16/16 [==============================] - 0s 14ms/step - loss: 2.5548 - accuracy: 0.3514 - val_loss: 2.5420 - val_accuracy: 0.3530\n",
      "Epoch 20/100\n",
      "16/16 [==============================] - 0s 14ms/step - loss: 2.5490 - accuracy: 0.3514 - val_loss: 2.5362 - val_accuracy: 0.3530\n",
      "Epoch 21/100\n",
      "16/16 [==============================] - 0s 14ms/step - loss: 2.5435 - accuracy: 0.3514 - val_loss: 2.5305 - val_accuracy: 0.3540\n",
      "Epoch 22/100\n",
      "16/16 [==============================] - 0s 14ms/step - loss: 2.5380 - accuracy: 0.3514 - val_loss: 2.5251 - val_accuracy: 0.3540\n",
      "Epoch 23/100\n",
      "16/16 [==============================] - 0s 14ms/step - loss: 2.5328 - accuracy: 0.3514 - val_loss: 2.5198 - val_accuracy: 0.3540\n",
      "Epoch 24/100\n",
      "16/16 [==============================] - 0s 14ms/step - loss: 2.5277 - accuracy: 0.3514 - val_loss: 2.5146 - val_accuracy: 0.3540\n",
      "Epoch 25/100\n",
      "16/16 [==============================] - 0s 14ms/step - loss: 2.5228 - accuracy: 0.3514 - val_loss: 2.5096 - val_accuracy: 0.3540\n",
      "Epoch 26/100\n",
      "16/16 [==============================] - 0s 14ms/step - loss: 2.5180 - accuracy: 0.3514 - val_loss: 2.5047 - val_accuracy: 0.3540\n",
      "Epoch 27/100\n",
      "16/16 [==============================] - 0s 14ms/step - loss: 2.5133 - accuracy: 0.3514 - val_loss: 2.5000 - val_accuracy: 0.3540\n",
      "Epoch 28/100\n",
      "16/16 [==============================] - 0s 14ms/step - loss: 2.5088 - accuracy: 0.3514 - val_loss: 2.4954 - val_accuracy: 0.3540\n",
      "Epoch 29/100\n",
      "16/16 [==============================] - 0s 14ms/step - loss: 2.5044 - accuracy: 0.3514 - val_loss: 2.4910 - val_accuracy: 0.3540\n",
      "Epoch 30/100\n",
      "16/16 [==============================] - 0s 14ms/step - loss: 2.5002 - accuracy: 0.3514 - val_loss: 2.4867 - val_accuracy: 0.3540\n",
      "Epoch 31/100\n",
      "16/16 [==============================] - 0s 14ms/step - loss: 2.4960 - accuracy: 0.3514 - val_loss: 2.4824 - val_accuracy: 0.3540\n",
      "Epoch 32/100\n",
      "16/16 [==============================] - 0s 14ms/step - loss: 2.4920 - accuracy: 0.3514 - val_loss: 2.4785 - val_accuracy: 0.3540\n",
      "Epoch 33/100\n",
      "16/16 [==============================] - 0s 14ms/step - loss: 2.4882 - accuracy: 0.3514 - val_loss: 2.4746 - val_accuracy: 0.3540\n",
      "Epoch 34/100\n",
      "16/16 [==============================] - 0s 14ms/step - loss: 2.4845 - accuracy: 0.3514 - val_loss: 2.4708 - val_accuracy: 0.3540\n",
      "Epoch 35/100\n",
      "16/16 [==============================] - 0s 15ms/step - loss: 2.4809 - accuracy: 0.3514 - val_loss: 2.4672 - val_accuracy: 0.3540\n",
      "Epoch 36/100\n",
      "16/16 [==============================] - 0s 16ms/step - loss: 2.4774 - accuracy: 0.3514 - val_loss: 2.4636 - val_accuracy: 0.3540\n",
      "Epoch 37/100\n",
      "16/16 [==============================] - 0s 16ms/step - loss: 2.4740 - accuracy: 0.3514 - val_loss: 2.4602 - val_accuracy: 0.3540\n",
      "Epoch 38/100\n",
      "16/16 [==============================] - 0s 16ms/step - loss: 2.4707 - accuracy: 0.3514 - val_loss: 2.4569 - val_accuracy: 0.3540\n",
      "Epoch 39/100\n",
      "16/16 [==============================] - 0s 15ms/step - loss: 2.4676 - accuracy: 0.3514 - val_loss: 2.4537 - val_accuracy: 0.3540\n",
      "Epoch 40/100\n",
      "16/16 [==============================] - 0s 14ms/step - loss: 2.4646 - accuracy: 0.3514 - val_loss: 2.4507 - val_accuracy: 0.3540\n",
      "Epoch 41/100\n",
      "16/16 [==============================] - 0s 16ms/step - loss: 2.4616 - accuracy: 0.3514 - val_loss: 2.4477 - val_accuracy: 0.3540\n",
      "Epoch 42/100\n",
      "16/16 [==============================] - 0s 16ms/step - loss: 2.4588 - accuracy: 0.3514 - val_loss: 2.4448 - val_accuracy: 0.3540\n",
      "Epoch 43/100\n",
      "16/16 [==============================] - 0s 17ms/step - loss: 2.4561 - accuracy: 0.3514 - val_loss: 2.4420 - val_accuracy: 0.3540\n",
      "Epoch 44/100\n",
      "16/16 [==============================] - 0s 16ms/step - loss: 2.4534 - accuracy: 0.3514 - val_loss: 2.4394 - val_accuracy: 0.3540\n",
      "Epoch 45/100\n",
      "16/16 [==============================] - 0s 16ms/step - loss: 2.4509 - accuracy: 0.3514 - val_loss: 2.4369 - val_accuracy: 0.3540\n",
      "Epoch 46/100\n",
      "16/16 [==============================] - 0s 15ms/step - loss: 2.4485 - accuracy: 0.3514 - val_loss: 2.4343 - val_accuracy: 0.3540\n",
      "Epoch 47/100\n",
      "16/16 [==============================] - 0s 16ms/step - loss: 2.4461 - accuracy: 0.3514 - val_loss: 2.4320 - val_accuracy: 0.3540\n",
      "Epoch 48/100\n",
      "16/16 [==============================] - 0s 16ms/step - loss: 2.4439 - accuracy: 0.3514 - val_loss: 2.4297 - val_accuracy: 0.3540\n",
      "Epoch 49/100\n",
      "16/16 [==============================] - 0s 16ms/step - loss: 2.4417 - accuracy: 0.3514 - val_loss: 2.4275 - val_accuracy: 0.3540\n",
      "Epoch 50/100\n",
      "16/16 [==============================] - 0s 15ms/step - loss: 2.4397 - accuracy: 0.3514 - val_loss: 2.4255 - val_accuracy: 0.3540\n",
      "Epoch 51/100\n",
      "16/16 [==============================] - 0s 14ms/step - loss: 2.4377 - accuracy: 0.3514 - val_loss: 2.4235 - val_accuracy: 0.3540\n",
      "Epoch 52/100\n",
      "16/16 [==============================] - 0s 16ms/step - loss: 2.4358 - accuracy: 0.3514 - val_loss: 2.4216 - val_accuracy: 0.3540\n",
      "Epoch 53/100\n",
      "16/16 [==============================] - 0s 16ms/step - loss: 2.4340 - accuracy: 0.3514 - val_loss: 2.4197 - val_accuracy: 0.3540\n",
      "Epoch 54/100\n",
      "16/16 [==============================] - 0s 17ms/step - loss: 2.4323 - accuracy: 0.3514 - val_loss: 2.4181 - val_accuracy: 0.3540\n",
      "Epoch 55/100\n",
      "16/16 [==============================] - 0s 15ms/step - loss: 2.4308 - accuracy: 0.3514 - val_loss: 2.4165 - val_accuracy: 0.3540\n",
      "Epoch 56/100\n",
      "16/16 [==============================] - 0s 16ms/step - loss: 2.4293 - accuracy: 0.3514 - val_loss: 2.4149 - val_accuracy: 0.3540\n",
      "Epoch 57/100\n",
      "16/16 [==============================] - 0s 16ms/step - loss: 2.4278 - accuracy: 0.3514 - val_loss: 2.4134 - val_accuracy: 0.3540\n",
      "Epoch 58/100\n"
     ]
    },
    {
     "name": "stdout",
     "output_type": "stream",
     "text": [
      "16/16 [==============================] - 0s 16ms/step - loss: 2.4264 - accuracy: 0.3514 - val_loss: 2.4120 - val_accuracy: 0.3540\n",
      "Epoch 59/100\n",
      "16/16 [==============================] - 0s 15ms/step - loss: 2.4251 - accuracy: 0.3514 - val_loss: 2.4107 - val_accuracy: 0.3540\n",
      "Epoch 60/100\n",
      "16/16 [==============================] - 0s 15ms/step - loss: 2.4239 - accuracy: 0.3514 - val_loss: 2.4095 - val_accuracy: 0.3540\n",
      "Epoch 61/100\n",
      "16/16 [==============================] - 0s 15ms/step - loss: 2.4227 - accuracy: 0.3514 - val_loss: 2.4082 - val_accuracy: 0.3540\n",
      "Epoch 62/100\n",
      "16/16 [==============================] - 0s 16ms/step - loss: 2.4216 - accuracy: 0.3514 - val_loss: 2.4071 - val_accuracy: 0.3540\n",
      "Epoch 63/100\n",
      "16/16 [==============================] - 0s 15ms/step - loss: 2.4206 - accuracy: 0.3514 - val_loss: 2.4061 - val_accuracy: 0.3540\n",
      "Epoch 64/100\n",
      "16/16 [==============================] - 0s 15ms/step - loss: 2.4196 - accuracy: 0.3514 - val_loss: 2.4051 - val_accuracy: 0.3540\n",
      "Epoch 65/100\n",
      "16/16 [==============================] - 0s 15ms/step - loss: 2.4187 - accuracy: 0.3514 - val_loss: 2.4041 - val_accuracy: 0.3540\n",
      "Epoch 66/100\n",
      "16/16 [==============================] - 0s 14ms/step - loss: 2.4179 - accuracy: 0.3514 - val_loss: 2.4033 - val_accuracy: 0.3540\n",
      "Epoch 67/100\n",
      "16/16 [==============================] - 0s 14ms/step - loss: 2.4172 - accuracy: 0.3514 - val_loss: 2.4025 - val_accuracy: 0.3540\n",
      "Epoch 68/100\n",
      "16/16 [==============================] - 0s 14ms/step - loss: 2.4165 - accuracy: 0.3514 - val_loss: 2.4018 - val_accuracy: 0.3540\n",
      "Epoch 69/100\n",
      "16/16 [==============================] - 0s 14ms/step - loss: 2.4158 - accuracy: 0.3514 - val_loss: 2.4011 - val_accuracy: 0.3540\n",
      "Epoch 70/100\n",
      "16/16 [==============================] - 0s 14ms/step - loss: 2.4152 - accuracy: 0.3514 - val_loss: 2.4004 - val_accuracy: 0.3540\n",
      "Epoch 71/100\n",
      "16/16 [==============================] - 0s 15ms/step - loss: 2.4146 - accuracy: 0.3514 - val_loss: 2.3999 - val_accuracy: 0.3540\n",
      "Epoch 72/100\n",
      "16/16 [==============================] - 0s 15ms/step - loss: 2.4140 - accuracy: 0.3514 - val_loss: 2.3993 - val_accuracy: 0.3540\n",
      "Epoch 73/100\n",
      "16/16 [==============================] - 0s 15ms/step - loss: 2.4135 - accuracy: 0.3514 - val_loss: 2.3988 - val_accuracy: 0.3540\n",
      "Epoch 74/100\n",
      "16/16 [==============================] - 0s 15ms/step - loss: 2.4130 - accuracy: 0.3514 - val_loss: 2.3983 - val_accuracy: 0.3540\n",
      "Epoch 75/100\n",
      "16/16 [==============================] - 0s 15ms/step - loss: 2.4126 - accuracy: 0.3514 - val_loss: 2.3978 - val_accuracy: 0.3540\n",
      "Epoch 76/100\n",
      "16/16 [==============================] - 0s 15ms/step - loss: 2.4122 - accuracy: 0.3514 - val_loss: 2.3974 - val_accuracy: 0.3540\n",
      "Epoch 77/100\n",
      "16/16 [==============================] - 0s 14ms/step - loss: 2.4118 - accuracy: 0.3514 - val_loss: 2.3970 - val_accuracy: 0.3540\n",
      "Epoch 78/100\n",
      "16/16 [==============================] - 0s 15ms/step - loss: 2.4115 - accuracy: 0.3514 - val_loss: 2.3966 - val_accuracy: 0.3540\n",
      "Epoch 79/100\n",
      "16/16 [==============================] - 0s 15ms/step - loss: 2.4111 - accuracy: 0.3514 - val_loss: 2.3962 - val_accuracy: 0.3540\n",
      "Epoch 80/100\n",
      "16/16 [==============================] - 0s 15ms/step - loss: 2.4108 - accuracy: 0.3514 - val_loss: 2.3959 - val_accuracy: 0.3540\n",
      "Epoch 81/100\n",
      "16/16 [==============================] - 0s 16ms/step - loss: 2.4104 - accuracy: 0.3514 - val_loss: 2.3956 - val_accuracy: 0.3540\n",
      "Epoch 82/100\n",
      "16/16 [==============================] - 0s 15ms/step - loss: 2.4101 - accuracy: 0.3514 - val_loss: 2.3953 - val_accuracy: 0.3540\n",
      "Epoch 83/100\n",
      "16/16 [==============================] - 0s 15ms/step - loss: 2.4099 - accuracy: 0.3514 - val_loss: 2.3950 - val_accuracy: 0.3540\n",
      "Epoch 84/100\n",
      "16/16 [==============================] - 0s 16ms/step - loss: 2.4096 - accuracy: 0.3514 - val_loss: 2.3947 - val_accuracy: 0.3540\n",
      "Epoch 85/100\n",
      "16/16 [==============================] - 0s 15ms/step - loss: 2.4093 - accuracy: 0.3514 - val_loss: 2.3945 - val_accuracy: 0.3540\n",
      "Epoch 86/100\n",
      "16/16 [==============================] - 0s 15ms/step - loss: 2.4091 - accuracy: 0.3514 - val_loss: 2.3942 - val_accuracy: 0.3540\n",
      "Epoch 87/100\n",
      "16/16 [==============================] - 0s 14ms/step - loss: 2.4089 - accuracy: 0.3514 - val_loss: 2.3940 - val_accuracy: 0.3540\n",
      "Epoch 88/100\n",
      "16/16 [==============================] - 0s 14ms/step - loss: 2.4086 - accuracy: 0.3514 - val_loss: 2.3938 - val_accuracy: 0.3540\n",
      "Epoch 89/100\n",
      "16/16 [==============================] - 0s 14ms/step - loss: 2.4084 - accuracy: 0.3514 - val_loss: 2.3936 - val_accuracy: 0.3540\n",
      "Epoch 90/100\n",
      "16/16 [==============================] - 0s 14ms/step - loss: 2.4082 - accuracy: 0.3514 - val_loss: 2.3934 - val_accuracy: 0.3540\n",
      "Epoch 91/100\n",
      "16/16 [==============================] - 0s 14ms/step - loss: 2.4080 - accuracy: 0.3514 - val_loss: 2.3932 - val_accuracy: 0.3540\n",
      "Epoch 92/100\n",
      "16/16 [==============================] - 0s 15ms/step - loss: 2.4079 - accuracy: 0.3514 - val_loss: 2.3930 - val_accuracy: 0.3540\n",
      "Epoch 93/100\n",
      "16/16 [==============================] - 0s 15ms/step - loss: 2.4077 - accuracy: 0.3514 - val_loss: 2.3928 - val_accuracy: 0.3540\n",
      "Epoch 94/100\n",
      "16/16 [==============================] - 0s 15ms/step - loss: 2.4075 - accuracy: 0.3514 - val_loss: 2.3927 - val_accuracy: 0.3540\n",
      "Epoch 95/100\n",
      "16/16 [==============================] - 0s 14ms/step - loss: 2.4074 - accuracy: 0.3514 - val_loss: 2.3925 - val_accuracy: 0.3540\n",
      "Epoch 96/100\n",
      "16/16 [==============================] - 0s 14ms/step - loss: 2.4072 - accuracy: 0.3514 - val_loss: 2.3923 - val_accuracy: 0.3540\n",
      "Epoch 97/100\n",
      "16/16 [==============================] - 0s 14ms/step - loss: 2.4070 - accuracy: 0.3514 - val_loss: 2.3922 - val_accuracy: 0.3540\n",
      "Epoch 98/100\n",
      "16/16 [==============================] - 0s 15ms/step - loss: 2.4069 - accuracy: 0.3514 - val_loss: 2.3920 - val_accuracy: 0.3540\n",
      "Epoch 99/100\n",
      "16/16 [==============================] - 0s 15ms/step - loss: 2.4068 - accuracy: 0.3514 - val_loss: 2.3919 - val_accuracy: 0.3540\n",
      "Epoch 100/100\n",
      "16/16 [==============================] - 0s 15ms/step - loss: 2.4066 - accuracy: 0.3514 - val_loss: 2.3917 - val_accuracy: 0.3540\n"
     ]
    }
   ],
   "source": [
    "# Listing 4.18 - Training the model\n",
    "\n",
    "history = model.fit(partial_x_train, \n",
    "                   partial_y_train, \n",
    "                   epochs=100, \n",
    "                   batch_size=512, \n",
    "                   validation_data=(x_val, y_val))"
   ]
  },
  {
   "cell_type": "code",
   "execution_count": 32,
   "id": "230b020b",
   "metadata": {},
   "outputs": [
    {
     "data": {
      "image/png": "[encoded data removed]",
      "text/plain": [
       "<Figure size 640x480 with 1 Axes>"
      ]
     },
     "metadata": {},
     "output_type": "display_data"
    }
   ],
   "source": [
    "# Listing 4.19 - Plotting the training and validation loss\n",
    "\n",
    "loss = history.history[\"loss\"]\n",
    "val_loss = history.history[\"val_loss\"]\n",
    "epochs = range(1, len(loss) + 1)\n",
    "plt.plot(epochs, loss, \"bo\", label=\"Training loss\")\n",
    "plt.plot(epochs, val_loss, \"b\", label=\"Validation loss\")\n",
    "plt.title(\"Training and validation loss\")\n",
    "plt.xlabel(\"Epochs\")\n",
    "plt.ylabel(\"Loss\")\n",
    "plt.legend()\n",
    "plt.show()"
   ]
  },
  {
   "cell_type": "code",
   "execution_count": 33,
   "id": "e5f9930a",
   "metadata": {},
   "outputs": [
    {
     "data": {
      "text/plain": [
       "<function matplotlib.pyplot.plot(*args, scalex=True, scaley=True, data=None, **kwargs)>"
      ]
     },
     "execution_count": 33,
     "metadata": {},
     "output_type": "execute_result"
    },
    {
     "data": {
      "image/png": "[encoded data removed]",
      "text/plain": [
       "<Figure size 640x480 with 1 Axes>"
      ]
     },
     "metadata": {},
     "output_type": "display_data"
    }
   ],
   "source": [
    "# Listing 4.20 - Plotting the training and validation accuracy \n",
    "\n",
    "plt.clf()\n",
    "acc = history.history[\"accuracy\"]\n",
    "val_acc = history.history[\"val_accuracy\"]\n",
    "plt.plot(epochs, acc, \"bo\", label=\"Training accuracy\")\n",
    "plt.plot(epochs, val_acc, \"b\", label=\"Validation accuracy\")\n",
    "plt.title(\"Training and validation accuracy\")\n",
    "plt.xlabel(\"Epochs\")\n",
    "plt.ylabel(\"Accuracy\")\n",
    "plt.legend()\n",
    "plt.plot"
   ]
  },
  {
   "cell_type": "code",
   "execution_count": 34,
   "id": "81c750fe",
   "metadata": {},
   "outputs": [
    {
     "name": "stdout",
     "output_type": "stream",
     "text": [
      "Epoch 1/9\n",
      "18/18 [==============================] - 1s 16ms/step - loss: 3.7941 - accuracy: 0.2115\n",
      "Epoch 2/9\n",
      "18/18 [==============================] - 0s 14ms/step - loss: 3.6415 - accuracy: 0.3517\n",
      "Epoch 3/9\n",
      "18/18 [==============================] - 0s 14ms/step - loss: 3.4083 - accuracy: 0.3517\n",
      "Epoch 4/9\n",
      "18/18 [==============================] - 0s 14ms/step - loss: 3.1176 - accuracy: 0.3517\n",
      "Epoch 5/9\n",
      "18/18 [==============================] - 0s 13ms/step - loss: 2.8185 - accuracy: 0.3517\n",
      "Epoch 6/9\n",
      "18/18 [==============================] - 0s 12ms/step - loss: 2.5784 - accuracy: 0.3517\n",
      "Epoch 7/9\n",
      "18/18 [==============================] - 0s 12ms/step - loss: 2.4546 - accuracy: 0.3517\n",
      "Epoch 8/9\n",
      "18/18 [==============================] - 0s 12ms/step - loss: 2.4210 - accuracy: 0.3517\n",
      "Epoch 9/9\n",
      "18/18 [==============================] - 0s 13ms/step - loss: 2.4126 - accuracy: 0.3517\n",
      "71/71 [==============================] - 1s 9ms/step - loss: 2.4203 - accuracy: 0.3620\n"
     ]
    },
    {
     "data": {
      "text/plain": [
       "[2.420334577560425, 0.36197686195373535]"
      ]
     },
     "execution_count": 34,
     "metadata": {},
     "output_type": "execute_result"
    }
   ],
   "source": [
    "# Listing 4.21 - Retraining a model from scratch \n",
    "\n",
    "model = keras.Sequential([\n",
    "    layers.Dense(64, activation=\"relu\"), \n",
    "    layers.Dense(64, activation=\"relu\"),\n",
    "    layers.Dense(46, activation=\"softmax\")\n",
    "])\n",
    "model.compile(optimizer=\"rmsprop\", \n",
    "             loss=\"categorical_crossentropy\", \n",
    "             metrics=[\"accuracy\"])\n",
    "model.fit(x_train, \n",
    "         y_train, \n",
    "         epochs=9, \n",
    "         batch_size=512)\n",
    "results = model.evaluate(x_test, y_test)\n",
    "results"
   ]
  },
  {
   "cell_type": "code",
   "execution_count": 35,
   "id": "7a59e699",
   "metadata": {},
   "outputs": [
    {
     "data": {
      "text/plain": [
       "0.1861086375779163"
      ]
     },
     "execution_count": 35,
     "metadata": {},
     "output_type": "execute_result"
    }
   ],
   "source": [
    "import copy\n",
    "test_labels_copy = copy.copy(test_labels)\n",
    "np.random.shuffle(test_labels_copy)\n",
    "hits_array = np.array(test_labels) == np.array(test_labels_copy)\n",
    "hits_array.mean()"
   ]
  },
  {
   "cell_type": "code",
   "execution_count": 36,
   "id": "85d96965",
   "metadata": {},
   "outputs": [
    {
     "name": "stdout",
     "output_type": "stream",
     "text": [
      "71/71 [==============================] - 0s 2ms/step\n"
     ]
    },
    {
     "data": {
      "text/plain": [
       "(46,)"
      ]
     },
     "execution_count": 36,
     "metadata": {},
     "output_type": "execute_result"
    }
   ],
   "source": [
    "predictions = model.predict(x_test)\n",
    "predictions[0].shape"
   ]
  },
  {
   "cell_type": "code",
   "execution_count": 37,
   "id": "11cd3d3a",
   "metadata": {},
   "outputs": [
    {
     "name": "stdout",
     "output_type": "stream",
     "text": [
      "Epoch 1/20\n",
      "63/63 [==============================] - 1s 16ms/step - loss: 3.7814 - accuracy: 0.1987 - val_loss: 3.7414 - val_accuracy: 0.2230\n",
      "Epoch 2/20\n",
      "63/63 [==============================] - 1s 15ms/step - loss: 3.7055 - accuracy: 0.2603 - val_loss: 3.6676 - val_accuracy: 0.2230\n",
      "Epoch 3/20\n",
      "63/63 [==============================] - 1s 14ms/step - loss: 3.6327 - accuracy: 0.3011 - val_loss: 3.5959 - val_accuracy: 0.3540\n",
      "Epoch 4/20\n",
      "63/63 [==============================] - 1s 14ms/step - loss: 3.5620 - accuracy: 0.3514 - val_loss: 3.5265 - val_accuracy: 0.3540\n",
      "Epoch 5/20\n",
      "63/63 [==============================] - 1s 14ms/step - loss: 3.4937 - accuracy: 0.3514 - val_loss: 3.4592 - val_accuracy: 0.3540\n",
      "Epoch 6/20\n",
      "63/63 [==============================] - 1s 13ms/step - loss: 3.4273 - accuracy: 0.3514 - val_loss: 3.3936 - val_accuracy: 0.3540\n",
      "Epoch 7/20\n",
      "63/63 [==============================] - 1s 15ms/step - loss: 3.3634 - accuracy: 0.3514 - val_loss: 3.3307 - val_accuracy: 0.3540\n",
      "Epoch 8/20\n",
      "63/63 [==============================] - 1s 14ms/step - loss: 3.3016 - accuracy: 0.3514 - val_loss: 3.2700 - val_accuracy: 0.3540\n",
      "Epoch 9/20\n",
      "63/63 [==============================] - 1s 14ms/step - loss: 3.2420 - accuracy: 0.3514 - val_loss: 3.2111 - val_accuracy: 0.3540\n",
      "Epoch 10/20\n",
      "63/63 [==============================] - 1s 13ms/step - loss: 3.1848 - accuracy: 0.3514 - val_loss: 3.1547 - val_accuracy: 0.3540\n",
      "Epoch 11/20\n",
      "63/63 [==============================] - 1s 13ms/step - loss: 3.1295 - accuracy: 0.3514 - val_loss: 3.1001 - val_accuracy: 0.3540\n",
      "Epoch 12/20\n",
      "63/63 [==============================] - 1s 14ms/step - loss: 3.0763 - accuracy: 0.3514 - val_loss: 3.0475 - val_accuracy: 0.3540\n",
      "Epoch 13/20\n",
      "63/63 [==============================] - 1s 12ms/step - loss: 3.0250 - accuracy: 0.3514 - val_loss: 2.9967 - val_accuracy: 0.3540\n",
      "Epoch 14/20\n",
      "63/63 [==============================] - 1s 12ms/step - loss: 2.9760 - accuracy: 0.3514 - val_loss: 2.9480 - val_accuracy: 0.3540\n",
      "Epoch 15/20\n",
      "63/63 [==============================] - 1s 12ms/step - loss: 2.9287 - accuracy: 0.3514 - val_loss: 2.9014 - val_accuracy: 0.3540\n",
      "Epoch 16/20\n",
      "63/63 [==============================] - 1s 12ms/step - loss: 2.8836 - accuracy: 0.3514 - val_loss: 2.8570 - val_accuracy: 0.3540\n",
      "Epoch 17/20\n",
      "63/63 [==============================] - 1s 12ms/step - loss: 2.8408 - accuracy: 0.3514 - val_loss: 2.8144 - val_accuracy: 0.3540\n",
      "Epoch 18/20\n",
      "63/63 [==============================] - 1s 12ms/step - loss: 2.7999 - accuracy: 0.3514 - val_loss: 2.7742 - val_accuracy: 0.3540\n",
      "Epoch 19/20\n",
      "63/63 [==============================] - 1s 12ms/step - loss: 2.7611 - accuracy: 0.3514 - val_loss: 2.7359 - val_accuracy: 0.3540\n",
      "Epoch 20/20\n",
      "63/63 [==============================] - 1s 12ms/step - loss: 2.7247 - accuracy: 0.3514 - val_loss: 2.7002 - val_accuracy: 0.3540\n"
     ]
    },
    {
     "data": {
      "text/plain": [
       "<keras.callbacks.History at 0x2c2a2d360>"
      ]
     },
     "execution_count": 37,
     "metadata": {},
     "output_type": "execute_result"
    }
   ],
   "source": [
    "# Listing 4.22 A model with an information bottleneck\n",
    "model = keras.Sequential([\n",
    "    layers.Dense(64, activation='relu'),\n",
    "    layers.Dense(4, activation='relu'),\n",
    "    layers.Dense(46, activation='softmax')\n",
    "])\n",
    "model.compile(optimizer='rmsprop', \n",
    "              loss='categorical_crossentropy', \n",
    "              metrics=['accuracy'])\n",
    "model.fit(partial_x_train, \n",
    "         partial_y_train, \n",
    "         epochs=20, \n",
    "         batch_size=128, \n",
    "         validation_data=(x_val, y_val))"
   ]
  },
  {
   "cell_type": "code",
   "execution_count": 42,
   "id": "002c039d",
   "metadata": {},
   "outputs": [
    {
     "name": "stdout",
     "output_type": "stream",
     "text": [
      "Downloading data from https://storage.googleapis.com/tensorflow/tf-keras-datasets/boston_housing.npz\n",
      "57026/57026 [==============================] - 0s 1us/step\n"
     ]
    },
    {
     "data": {
      "text/plain": [
       "array([15.2, 42.3, 50. , 21.1, 17.7, 18.5, 11.3, 15.6, 15.6, 14.4, 12.1,\n",
       "       17.9, 23.1, 19.9, 15.7,  8.8, 50. , 22.5, 24.1, 27.5, 10.9, 30.8,\n",
       "       32.9, 24. , 18.5, 13.3, 22.9, 34.7, 16.6, 17.5, 22.3, 16.1, 14.9,\n",
       "       23.1, 34.9, 25. , 13.9, 13.1, 20.4, 20. , 15.2, 24.7, 22.2, 16.7,\n",
       "       12.7, 15.6, 18.4, 21. , 30.1, 15.1, 18.7,  9.6, 31.5, 24.8, 19.1,\n",
       "       22. , 14.5, 11. , 32. , 29.4, 20.3, 24.4, 14.6, 19.5, 14.1, 14.3,\n",
       "       15.6, 10.5,  6.3, 19.3, 19.3, 13.4, 36.4, 17.8, 13.5, 16.5,  8.3,\n",
       "       14.3, 16. , 13.4, 28.6, 43.5, 20.2, 22. , 23. , 20.7, 12.5, 48.5,\n",
       "       14.6, 13.4, 23.7, 50. , 21.7, 39.8, 38.7, 22.2, 34.9, 22.5, 31.1,\n",
       "       28.7, 46. , 41.7, 21. , 26.6, 15. , 24.4, 13.3, 21.2, 11.7, 21.7,\n",
       "       19.4, 50. , 22.8, 19.7, 24.7, 36.2, 14.2, 18.9, 18.3, 20.6, 24.6,\n",
       "       18.2,  8.7, 44. , 10.4, 13.2, 21.2, 37. , 30.7, 22.9, 20. , 19.3,\n",
       "       31.7, 32. , 23.1, 18.8, 10.9, 50. , 19.6,  5. , 14.4, 19.8, 13.8,\n",
       "       19.6, 23.9, 24.5, 25. , 19.9, 17.2, 24.6, 13.5, 26.6, 21.4, 11.9,\n",
       "       22.6, 19.6,  8.5, 23.7, 23.1, 22.4, 20.5, 23.6, 18.4, 35.2, 23.1,\n",
       "       27.9, 20.6, 23.7, 28. , 13.6, 27.1, 23.6, 20.6, 18.2, 21.7, 17.1,\n",
       "        8.4, 25.3, 13.8, 22.2, 18.4, 20.7, 31.6, 30.5, 20.3,  8.8, 19.2,\n",
       "       19.4, 23.1, 23. , 14.8, 48.8, 22.6, 33.4, 21.1, 13.6, 32.2, 13.1,\n",
       "       23.4, 18.9, 23.9, 11.8, 23.3, 22.8, 19.6, 16.7, 13.4, 22.2, 20.4,\n",
       "       21.8, 26.4, 14.9, 24.1, 23.8, 12.3, 29.1, 21. , 19.5, 23.3, 23.8,\n",
       "       17.8, 11.5, 21.7, 19.9, 25. , 33.4, 28.5, 21.4, 24.3, 27.5, 33.1,\n",
       "       16.2, 23.3, 48.3, 22.9, 22.8, 13.1, 12.7, 22.6, 15. , 15.3, 10.5,\n",
       "       24. , 18.5, 21.7, 19.5, 33.2, 23.2,  5. , 19.1, 12.7, 22.3, 10.2,\n",
       "       13.9, 16.3, 17. , 20.1, 29.9, 17.2, 37.3, 45.4, 17.8, 23.2, 29. ,\n",
       "       22. , 18. , 17.4, 34.6, 20.1, 25. , 15.6, 24.8, 28.2, 21.2, 21.4,\n",
       "       23.8, 31. , 26.2, 17.4, 37.9, 17.5, 20. ,  8.3, 23.9,  8.4, 13.8,\n",
       "        7.2, 11.7, 17.1, 21.6, 50. , 16.1, 20.4, 20.6, 21.4, 20.6, 36.5,\n",
       "        8.5, 24.8, 10.8, 21.9, 17.3, 18.9, 36.2, 14.9, 18.2, 33.3, 21.8,\n",
       "       19.7, 31.6, 24.8, 19.4, 22.8,  7.5, 44.8, 16.8, 18.7, 50. , 50. ,\n",
       "       19.5, 20.1, 50. , 17.2, 20.8, 19.3, 41.3, 20.4, 20.5, 13.8, 16.5,\n",
       "       23.9, 20.6, 31.5, 23.3, 16.8, 14. , 33.8, 36.1, 12.8, 18.3, 18.7,\n",
       "       19.1, 29. , 30.1, 50. , 50. , 22. , 11.9, 37.6, 50. , 22.7, 20.8,\n",
       "       23.5, 27.9, 50. , 19.3, 23.9, 22.6, 15.2, 21.7, 19.2, 43.8, 20.3,\n",
       "       33.2, 19.9, 22.5, 32.7, 22. , 17.1, 19. , 15. , 16.1, 25.1, 23.7,\n",
       "       28.7, 37.2, 22.6, 16.4, 25. , 29.8, 22.1, 17.4, 18.1, 30.3, 17.5,\n",
       "       24.7, 12.6, 26.5, 28.7, 13.3, 10.4, 24.4, 23. , 20. , 17.8,  7. ,\n",
       "       11.8, 24.4, 13.8, 19.4, 25.2, 19.4, 19.4, 29.1])"
      ]
     },
     "execution_count": 42,
     "metadata": {},
     "output_type": "execute_result"
    }
   ],
   "source": [
    "# Listing 4.23\n",
    "from tensorflow.keras.datasets import boston_housing\n",
    "(train_data, train_targets), (test_data, test_tarrgets) = (boston_housing.load_data())\n",
    "train_data.shape\n",
    "test_data.shape\n",
    "train_targets"
   ]
  },
  {
   "cell_type": "code",
   "execution_count": 43,
   "id": "def27267",
   "metadata": {},
   "outputs": [],
   "source": [
    "# Listing 4.24\n",
    "mean = train_data.mean(axis=0)\n",
    "train_data -= mean\n",
    "std = train_data.std(axis=0)\n",
    "train_data /= std\n",
    "test_data -= mean\n",
    "test_data /= std"
   ]
  },
  {
   "cell_type": "code",
   "execution_count": 48,
   "id": "782491ac",
   "metadata": {},
   "outputs": [],
   "source": [
    "# Listing 4.25\n",
    "\n",
    "def build_model():\n",
    "    model = keras.Sequential([\n",
    "        layers.Dense(64, activation=\"relu\"),\n",
    "        layers.Dense(64, activation=\"relu\"),\n",
    "        layers.Dense(1)\n",
    "    ])\n",
    "    model.compile(optimizer=\"rmsprop\", loss=\"mse\", metrics=[\"mae\"])\n",
    "    return model"
   ]
  },
  {
   "cell_type": "code",
   "execution_count": 49,
   "id": "c935cb3c",
   "metadata": {},
   "outputs": [
    {
     "name": "stdout",
     "output_type": "stream",
     "text": [
      "Processing fold #0\n"
     ]
    },
    {
     "ename": "ValueError",
     "evalue": "Data cardinality is ambiguous:\n  x sizes: 404\n  y sizes: 303\nMake sure all arrays contain the same number of samples.",
     "output_type": "error",
     "traceback": [
      "\u001b[0;31m---------------------------------------------------------------------------\u001b[0m",
      "\u001b[0;31mValueError\u001b[0m                                Traceback (most recent call last)",
      "Cell \u001b[0;32mIn[49], line 20\u001b[0m\n\u001b[1;32m     15\u001b[0m partial_train_targets \u001b[38;5;241m=\u001b[39m np\u001b[38;5;241m.\u001b[39mconcatenate( \n\u001b[1;32m     16\u001b[0m     [train_targets[:i \u001b[38;5;241m*\u001b[39m num_val_samples], \n\u001b[1;32m     17\u001b[0m     train_targets[(i \u001b[38;5;241m+\u001b[39m \u001b[38;5;241m1\u001b[39m) \u001b[38;5;241m*\u001b[39m num_val_samples:]], \n\u001b[1;32m     18\u001b[0m     axis \u001b[38;5;241m=\u001b[39m \u001b[38;5;241m0\u001b[39m)\n\u001b[1;32m     19\u001b[0m model \u001b[38;5;241m=\u001b[39m build_model() \u001b[38;5;66;03m#Builds the Keras model\u001b[39;00m\n\u001b[0;32m---> 20\u001b[0m \u001b[43mmodel\u001b[49m\u001b[38;5;241;43m.\u001b[39;49m\u001b[43mfit\u001b[49m\u001b[43m(\u001b[49m\u001b[43mpartial_train_data\u001b[49m\u001b[43m,\u001b[49m\u001b[43m \u001b[49m\u001b[43mpartial_train_targets\u001b[49m\u001b[43m,\u001b[49m\u001b[43m \u001b[49m\u001b[38;5;66;43;03m#Trains the model (in silent mode, verbose=0) \u001b[39;49;00m\n\u001b[1;32m     21\u001b[0m \u001b[43m         \u001b[49m\u001b[43mepochs\u001b[49m\u001b[38;5;241;43m=\u001b[39;49m\u001b[43mnum_epochs\u001b[49m\u001b[43m,\u001b[49m\u001b[43m \u001b[49m\u001b[43mbatch_size\u001b[49m\u001b[38;5;241;43m=\u001b[39;49m\u001b[38;5;241;43m16\u001b[39;49m\u001b[43m,\u001b[49m\u001b[43m \u001b[49m\u001b[43mverbose\u001b[49m\u001b[38;5;241;43m=\u001b[39;49m\u001b[38;5;241;43m0\u001b[39;49m\u001b[43m)\u001b[49m\n\u001b[1;32m     22\u001b[0m val_mse, val_mae \u001b[38;5;241m=\u001b[39m model\u001b[38;5;241m.\u001b[39mevaluate(val_data, val_targets, verbose\u001b[38;5;241m=\u001b[39m\u001b[38;5;241m0\u001b[39m) \u001b[38;5;66;03m#Evaluates the model on the validation data\u001b[39;00m\n\u001b[1;32m     23\u001b[0m all_scores\u001b[38;5;241m.\u001b[39mappend(val_mase)\n",
      "File \u001b[0;32m~/miniforge3/envs/env1/lib/python3.10/site-packages/keras/utils/traceback_utils.py:70\u001b[0m, in \u001b[0;36mfilter_traceback.<locals>.error_handler\u001b[0;34m(*args, **kwargs)\u001b[0m\n\u001b[1;32m     67\u001b[0m     filtered_tb \u001b[38;5;241m=\u001b[39m _process_traceback_frames(e\u001b[38;5;241m.\u001b[39m__traceback__)\n\u001b[1;32m     68\u001b[0m     \u001b[38;5;66;03m# To get the full stack trace, call:\u001b[39;00m\n\u001b[1;32m     69\u001b[0m     \u001b[38;5;66;03m# `tf.debugging.disable_traceback_filtering()`\u001b[39;00m\n\u001b[0;32m---> 70\u001b[0m     \u001b[38;5;28;01mraise\u001b[39;00m e\u001b[38;5;241m.\u001b[39mwith_traceback(filtered_tb) \u001b[38;5;28;01mfrom\u001b[39;00m \u001b[38;5;28;01mNone\u001b[39;00m\n\u001b[1;32m     71\u001b[0m \u001b[38;5;28;01mfinally\u001b[39;00m:\n\u001b[1;32m     72\u001b[0m     \u001b[38;5;28;01mdel\u001b[39;00m filtered_tb\n",
      "File \u001b[0;32m~/miniforge3/envs/env1/lib/python3.10/site-packages/keras/engine/data_adapter.py:1852\u001b[0m, in \u001b[0;36m_check_data_cardinality\u001b[0;34m(data)\u001b[0m\n\u001b[1;32m   1845\u001b[0m     msg \u001b[38;5;241m+\u001b[39m\u001b[38;5;241m=\u001b[39m \u001b[38;5;124m\"\u001b[39m\u001b[38;5;124m  \u001b[39m\u001b[38;5;132;01m{}\u001b[39;00m\u001b[38;5;124m sizes: \u001b[39m\u001b[38;5;132;01m{}\u001b[39;00m\u001b[38;5;130;01m\\n\u001b[39;00m\u001b[38;5;124m\"\u001b[39m\u001b[38;5;241m.\u001b[39mformat(\n\u001b[1;32m   1846\u001b[0m         label,\n\u001b[1;32m   1847\u001b[0m         \u001b[38;5;124m\"\u001b[39m\u001b[38;5;124m, \u001b[39m\u001b[38;5;124m\"\u001b[39m\u001b[38;5;241m.\u001b[39mjoin(\n\u001b[1;32m   1848\u001b[0m             \u001b[38;5;28mstr\u001b[39m(i\u001b[38;5;241m.\u001b[39mshape[\u001b[38;5;241m0\u001b[39m]) \u001b[38;5;28;01mfor\u001b[39;00m i \u001b[38;5;129;01min\u001b[39;00m tf\u001b[38;5;241m.\u001b[39mnest\u001b[38;5;241m.\u001b[39mflatten(single_data)\n\u001b[1;32m   1849\u001b[0m         ),\n\u001b[1;32m   1850\u001b[0m     )\n\u001b[1;32m   1851\u001b[0m msg \u001b[38;5;241m+\u001b[39m\u001b[38;5;241m=\u001b[39m \u001b[38;5;124m\"\u001b[39m\u001b[38;5;124mMake sure all arrays contain the same number of samples.\u001b[39m\u001b[38;5;124m\"\u001b[39m\n\u001b[0;32m-> 1852\u001b[0m \u001b[38;5;28;01mraise\u001b[39;00m \u001b[38;5;167;01mValueError\u001b[39;00m(msg)\n",
      "\u001b[0;31mValueError\u001b[0m: Data cardinality is ambiguous:\n  x sizes: 404\n  y sizes: 303\nMake sure all arrays contain the same number of samples."
     ]
    }
   ],
   "source": [
    "# Listing 4.26\n",
    "\n",
    "k = 4\n",
    "num_val_samples = len(train_data) // k\n",
    "num_epochs = 100\n",
    "all_scores = []\n",
    "for i in range(k):\n",
    "    print(f\"Processing fold #{i}\")\n",
    "    val_data = train_data[i * num_val_samples: (i + 1) * num_val_samples] #Prepares the validation data: data from partition #k\n",
    "    val_targets = train_targets[i * num_val_samples: (i + 1) * num_val_samples]\n",
    "    partial_train_data = np.concatenate( #Prepares the training data: data from all other partitions\n",
    "        [train_data[:i + num_val_samples], \n",
    "        train_data[(i + 1) * num_val_samples:]],\n",
    "        axis=0)\n",
    "    partial_train_targets = np.concatenate( \n",
    "        [train_targets[:i * num_val_samples], \n",
    "        train_targets[(i + 1) * num_val_samples:]], \n",
    "        axis = 0)\n",
    "    model = build_model() #Builds the Keras model\n",
    "    model.fit(partial_train_data, partial_train_targets, #Trains the model (in silent mode, verbose=0) \n",
    "             epochs=num_epochs, batch_size=16, verbose=0)\n",
    "    val_mse, val_mae = model.evaluate(val_data, val_targets, verbose=0) #Evaluates the model on the validation data\n",
    "    all_scores.append(val_mase)"
   ]
  },
  {
   "cell_type": "code",
   "execution_count": null,
   "id": "9988bfdb",
   "metadata": {},
   "outputs": [],
   "source": []
  },
  {
   "cell_type": "code",
   "execution_count": null,
   "id": "7ca5e24e",
   "metadata": {},
   "outputs": [],
   "source": []
  },
  {
   "cell_type": "code",
   "execution_count": null,
   "id": "26e34a0c",
   "metadata": {},
   "outputs": [],
   "source": []
  }
 ],
 "metadata": {
  "kernelspec": {
   "display_name": "Python 3 (ipykernel)",
   "language": "python",
   "name": "python3"
  },
  "language_info": {
   "codemirror_mode": {
    "name": "ipython",
    "version": 3
   },
   "file_extension": ".py",
   "mimetype": "text/x-python",
   "name": "python",
   "nbconvert_exporter": "python",
   "pygments_lexer": "ipython3",
   "version": "3.10.10"
  }
 },
 "nbformat": 4,
 "nbformat_minor": 5
}
